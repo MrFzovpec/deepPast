{
 "cells": [
  {
   "cell_type": "code",
   "execution_count": 1,
   "metadata": {},
   "outputs": [],
   "source": [
    "import pandas as pd\n",
    "data = pd.read_csv('pushkin.csv')[:50]\n",
    "data2 = pd.read_csv('dostoewsky.csv')[:50]"
   ]
  },
  {
   "cell_type": "code",
   "execution_count": 2,
   "metadata": {},
   "outputs": [],
   "source": [
    "def superrost(words):\n",
    "    ''.join(filter(lambda x: ord(x) in range(ord('а'), ord('я')+1) or \n",
    "                           ord(x) in range(ord('А'), ord('Я')+1) or \n",
    "                           x == ' ', list(words.replace('\\n', ' '))))\n",
    "    return words"
   ]
  },
  {
   "cell_type": "code",
   "execution_count": 3,
   "metadata": {},
   "outputs": [
    {
     "name": "stdout",
     "output_type": "stream",
     "text": [
      "1\n",
      "2\n"
     ]
    }
   ],
   "source": [
    "print('1')\n",
    "data['text'] = data.text.apply(superrost)\n",
    "print('2')\n",
    "data2['text'] = data2.text.apply(superrost)"
   ]
  },
  {
   "cell_type": "code",
   "execution_count": 4,
   "metadata": {},
   "outputs": [],
   "source": [
    "from nltk.tokenize import TweetTokenizer\n",
    "from pymorphy2 import MorphAnalyzer\n",
    "from nltk.corpus import stopwords\n",
    "\n",
    "tokenizer = TweetTokenizer()\n",
    "analyzer = MorphAnalyzer()\n",
    "\n",
    "def preprocess(text):\n",
    "    w = text.split()\n",
    "    filtered_words = [word for word in w if word not in stopwords.words('russian')]\n",
    "    \n",
    "    \n",
    "    words = tokenizer.tokenize(\"\".join(filtered_words))\n",
    "    \n",
    "    \n",
    "    for i in range(len(words)):\n",
    "        words[i] = analyzer.parse(words[i])[0].normal_form\n",
    "    return ' '.join(words).lower()"
   ]
  },
  {
   "cell_type": "code",
   "execution_count": 5,
   "metadata": {},
   "outputs": [
    {
     "name": "stdout",
     "output_type": "stream",
     "text": [
      "1\n",
      "2\n"
     ]
    }
   ],
   "source": [
    "print('1')\n",
    "data['text'] = data.text.apply(preprocess)\n",
    "print('2')\n",
    "data2['text'] = data2.text.apply(preprocess)"
   ]
  },
  {
   "cell_type": "code",
   "execution_count": 6,
   "metadata": {},
   "outputs": [
    {
     "name": "stdout",
     "output_type": "stream",
     "text": [
      "concat\n",
      "fitting\n",
      "1\n",
      "2\n"
     ]
    }
   ],
   "source": [
    "from sklearn.feature_extraction.text import CountVectorizer\n",
    "vectorizer = CountVectorizer()\n",
    "print('concat')\n",
    "fitted = pd.concat([data.text,data2.text], axis =0)\n",
    "print('fitting')\n",
    "vectorizer.fit(fitted)\n",
    "print('1')\n",
    "vectorized = vectorizer.transform(data.text) \n",
    "print('2')\n",
    "vectorized2 = vectorizer.transform(data2.text) "
   ]
  },
  {
   "cell_type": "code",
   "execution_count": 7,
   "metadata": {},
   "outputs": [
    {
     "data": {
      "text/plain": [
       "(50, 2796)"
      ]
     },
     "execution_count": 7,
     "metadata": {},
     "output_type": "execute_result"
    }
   ],
   "source": [
    "minus=(vectorized)-(vectorized2)\n",
    "minus.shape"
   ]
  },
  {
   "cell_type": "code",
   "execution_count": 8,
   "metadata": {},
   "outputs": [
    {
     "data": {
      "text/plain": [
       "array([[ 1, -4, -2, ..., -1, -1,  0],\n",
       "       [ 1, -4, -2, ..., -1, -1,  0],\n",
       "       [ 0, -4, -2, ..., -1, -1,  0],\n",
       "       ...,\n",
       "       [ 0, -3, -1, ...,  0, -1,  0],\n",
       "       [ 0, -3, -1, ...,  0, -1,  0],\n",
       "       [ 0, -3, -1, ...,  0, -1,  0]], dtype=int64)"
      ]
     },
     "execution_count": 8,
     "metadata": {},
     "output_type": "execute_result"
    }
   ],
   "source": [
    "minus.toarray()"
   ]
  },
  {
   "cell_type": "code",
   "execution_count": 9,
   "metadata": {},
   "outputs": [
    {
     "data": {
      "text/plain": [
       "(2796,)"
      ]
     },
     "execution_count": 9,
     "metadata": {},
     "output_type": "execute_result"
    }
   ],
   "source": [
    "import numpy as np\n",
    "\n",
    "sums = minus.toarray().sum(axis=0)\n",
    "sums.shape"
   ]
  },
  {
   "cell_type": "code",
   "execution_count": null,
   "metadata": {},
   "outputs": [],
   "source": [
    "import requests\n",
    "import json\n",
    "\n",
    "def beword(word):\n",
    "    key = 'dict.1.1.20191123T212452Z.411f68444aa87cf0.0625a3c576f183071005d9e3474f48970456140d'\n",
    "    url = 'https://dictionary.yandex.net/api/v1/dicservice.json/lookup?key={}&lang=ru-ru&text={}'.format(key, word)\n",
    "    if json.loads(requests.get(url).text"
   ]
  },
  {
   "cell_type": "code",
   "execution_count": 10,
   "metadata": {},
   "outputs": [
    {
     "name": "stdout",
     "output_type": "stream",
     "text": [
      "027\n",
      "112\n",
      "1792\n",
      "1810\n",
      "1817год\n",
      "1824год\n",
      "1866\n",
      "1913\n",
      "1994\n",
      "221\n",
      "24читаться\n",
      "2829\n",
      "depolit\n",
      "dingansich\n",
      "fatalité\n",
      "feb\n",
      "http\n",
      "humanité\n",
      "kunstwerk\n",
      "posit\n",
      "ra1\n",
      "rosarc\n",
      "ru\n",
      "web\n",
      "xxii\n",
      "xxiiiт\n",
      "xxвва\n",
      "xxвеко\n",
      "агностик\n",
      "альманах\n",
      "архив\n",
      "блинов\n",
      "важный\n",
      "век\n",
      "веритьто\n",
      "видимо\n",
      "вмёртвый\n",
      "возможно\n",
      "вообще\n",
      "воронин\n",
      "всамомдел\n",
      "все\n",
      "вспискать\n",
      "вспискем\n",
      "встих\n",
      "вступа\n",
      "всходиться\n",
      "вторая\n",
      "второй\n",
      "вундтэда\n",
      "гартман\n",
      "добразло\n",
      "добройсила\n",
      "дойдет\n",
      "дойти\n",
      "др\n",
      "другом\n",
      "едвакий\n",
      "ждетxxi\n",
      "же\n",
      "засамиха\n",
      "звучать\n",
      "звучит\n",
      "знание\n",
      "иза\n",
      "извидный\n",
      "изменчивый\n",
      "изсодерж\n",
      "имееткакой\n",
      "имееткакую\n",
      "именно\n",
      "инапротив\n",
      "ирелигия\n",
      "июнь\n",
      "какбыть\n",
      "какмало\n",
      "кивер\n",
      "кивера\n",
      "конт\n",
      "которуюкто\n",
      "круг\n",
      "литр\n",
      "логический\n",
      "любовь\n",
      "мельников\n",
      "метр\n",
      "мне\n",
      "мой\n",
      "мыимеёмный\n",
      "надежда\n",
      "наз\n",
      "налепин\n",
      "наука\n",
      "научный\n",
      "наш\n",
      "неизменный\n",
      "нето\n",
      "никитенко\n",
      "ничто\n",
      "обаучения\n",
      "опять\n",
      "основувер\n",
      "отсталый\n",
      "павел\n",
      "пассивный\n",
      "повторять\n",
      "подобноть\n",
      "позитивист\n",
      "показывать\n",
      "положим\n",
      "получить\n",
      "порог\n",
      "порога\n",
      "порогу\n",
      "посвятить\n",
      "послание\n",
      "посписку\n",
      "посписок\n",
      "постепенно\n",
      "пушкин\n",
      "пущина\n",
      "пущино\n",
      "равнызакон\n",
      "равныкаска\n",
      "равныкаски\n",
      "развитие\n",
      "расти\n",
      "речь\n",
      "сам\n",
      "сверхтого\n",
      "свободный\n",
      "силойсмысл\n",
      "социология\n",
      "списокм\n",
      "ст\n",
      "стих\n",
      "таккак\n",
      "тезнание\n",
      "теист\n",
      "терять\n",
      "товарищ\n",
      "товарищам\n",
      "томуж\n",
      "узналиуже\n",
      "физический\n",
      "филин\n",
      "хгод\n",
      "хгодов\n",
      "целибытие\n",
      "чаадаев\n",
      "школа\n",
      "щербачевю\n",
      "этоодно\n",
      "этоть\n",
      "ядумать\n"
     ]
    }
   ],
   "source": [
    "for i in range(len(vectorizer.get_feature_names())):\n",
    "    if (sums[i] > sums.mean() + 10) and (len(vectorizer.get_feature_names()[i])<=10):\n",
    "        print(vectorizer.get_feature_names()[i])"
   ]
  },
  {
   "cell_type": "code",
   "execution_count": null,
   "metadata": {},
   "outputs": [],
   "source": []
  }
 ],
 "metadata": {
  "kernelspec": {
   "display_name": "Python 3",
   "language": "python",
   "name": "python3"
  },
  "language_info": {
   "codemirror_mode": {
    "name": "ipython",
    "version": 3
   },
   "file_extension": ".py",
   "mimetype": "text/x-python",
   "name": "python",
   "nbconvert_exporter": "python",
   "pygments_lexer": "ipython3",
   "version": "3.7.4"
  }
 },
 "nbformat": 4,
 "nbformat_minor": 2
}
